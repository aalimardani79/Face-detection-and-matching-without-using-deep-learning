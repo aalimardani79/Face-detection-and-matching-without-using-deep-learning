{
 "cells": [
  {
   "cell_type": "code",
   "execution_count": 1,
   "id": "ef7c8caa",
   "metadata": {},
   "outputs": [],
   "source": [
    "import sqlite3\n",
    "\n",
    "\n",
    "con = sqlite3.connect('faces3.db')\n",
    "cursor = con.cursor()\n",
    "\n",
    "# Create table\n",
    "cursor.execute(\"\"\"\n",
    "CREATE TABLE images (\n",
    "    image_id INTEGER PRIMARY KEY AUTOINCREMENT,\n",
    "    image_name TEXT NOT NULL,\n",
    "    image_data BLOB,\n",
    "    image_embedding BLOB\n",
    ");\n",
    "\"\"\")\n",
    "\n",
    "# Commit to change\n",
    "con.commit()\n",
    "\n",
    "# Disconnect\n",
    "con.close()\n"
   ]
  },
  {
   "cell_type": "code",
   "execution_count": null,
   "id": "fffbbec1",
   "metadata": {},
   "outputs": [],
   "source": []
  }
 ],
 "metadata": {
  "kernelspec": {
   "display_name": "Python 3 (ipykernel)",
   "language": "python",
   "name": "python3"
  },
  "language_info": {
   "codemirror_mode": {
    "name": "ipython",
    "version": 3
   },
   "file_extension": ".py",
   "mimetype": "text/x-python",
   "name": "python",
   "nbconvert_exporter": "python",
   "pygments_lexer": "ipython3",
   "version": "3.10.9"
  }
 },
 "nbformat": 4,
 "nbformat_minor": 5
}
