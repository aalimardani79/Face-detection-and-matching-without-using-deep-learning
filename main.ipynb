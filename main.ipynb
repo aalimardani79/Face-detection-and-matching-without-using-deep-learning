{
 "cells": [
  {
   "cell_type": "code",
   "execution_count": 2,
   "id": "dfac401e",
   "metadata": {},
   "outputs": [
    {
     "name": "stderr",
     "output_type": "stream",
     "text": [
      "E:\\ana\\lib\\site-packages\\huggingface_hub\\file_download.py:588: FutureWarning: `cached_download` is the legacy way to download files from the HF hub, please consider upgrading to `hf_hub_download`\n",
      "  warnings.warn(\n"
     ]
    },
    {
     "name": "stdout",
     "output_type": "stream",
     "text": [
      "Similar image found in the database! Name: mom\n",
      "Execution time: 20.90 seconds\n"
     ]
    }
   ],
   "source": [
    "import time\n",
    "start_time = time.time()\n",
    "import cv2\n",
    "import sqlite3\n",
    "import numpy as np\n",
    "from imgbeddings import imgbeddings\n",
    "from sklearn.metrics.pairwise import cosine_similarity\n",
    "from PIL import Image\n",
    "\n",
    "# Database and file paths\n",
    "db_name = 'C:\\\\Users\\\\asus\\\\Desktop\\\\Project\\\\Face Recognition\\\\faces3.db'\n",
    "table_name = 'images'\n",
    "column_image_data = 'image_data'\n",
    "column_image_embedding = 'image_embedding'\n",
    "casPath = \"C:\\\\Users\\\\asus\\\\Desktop\\\\test\\\\haarcascade_frontalface_default.xml\"\n",
    "\n",
    "# Connect to database\n",
    "conn = sqlite3.connect(db_name)\n",
    "cursor = conn.cursor()\n",
    "faceCascade = cv2.CascadeClassifier(casPath)\n",
    "\n",
    "# Initialize the embedder\n",
    "embedder = imgbeddings()\n",
    "\n",
    "def calculate_embedding(image):\n",
    "    image_array = cv2.cvtColor(image, cv2.COLOR_BGR2RGB)\n",
    "    image_pil = Image.fromarray(image_array)\n",
    "    embedding = embedder.to_embeddings([image_pil])[0]\n",
    "    return embedding\n",
    "\n",
    "def get_all_embeddings(cursor):\n",
    "    cursor.execute(f\"SELECT image_id, {column_image_embedding} FROM {table_name}\")\n",
    "    embeddings = cursor.fetchall()\n",
    "    image_ids = [row[0] for row in embeddings]\n",
    "    image_embeddings = [np.frombuffer(row[1], dtype=np.float32).reshape(1, -1) for row in embeddings]\n",
    "    return image_ids, image_embeddings\n",
    "\n",
    "# Example usage\n",
    "cap = cv2.VideoCapture(0)\n",
    "\n",
    "while True:\n",
    "    ret, frame = cap.read()\n",
    "    if not ret:\n",
    "        print(\"Error: Cannot receive frame from webcam\")\n",
    "        break\n",
    "\n",
    "    faces = faceCascade.detectMultiScale(frame, scaleFactor=1.1, minNeighbors=5, minSize=(150, 150), flags=cv2.CASCADE_SCALE_IMAGE)\n",
    "    for (x, y, w, h) in faces:\n",
    "        cv2.putText(frame, 'please click c', (10, 30), cv2.FONT_HERSHEY_SIMPLEX, 1.0, (255, 255, 0), 2)\n",
    "        roi = frame[y:y+h, x:x+w]\n",
    "        cv2.rectangle(frame, (x, y), (x+w, y+h), (255, 0, 0), 2)\n",
    "\n",
    "    cv2.imshow('Webcam', frame)\n",
    "    key = cv2.waitKey(1)\n",
    "    if key == ord('c'):\n",
    "        cv2.imwrite(filename='saved_img.jpg', img=roi)\n",
    "        cap.release()\n",
    "        img_new = cv2.imread('saved_img.jpg')\n",
    "        image2 = cv2.fastNlMeansDenoising(img_new)\n",
    "        cv2.waitKey(1)\n",
    "        cv2.destroyAllWindows()\n",
    "        break\n",
    "\n",
    "# Retrieve and compare embeddings\n",
    "image2_embedding = calculate_embedding(image2).reshape(1, -1)\n",
    "image_ids, image_embeddings = get_all_embeddings(cursor)\n",
    "similarities = [cosine_similarity(image2_embedding, embedding)[0][0] for embedding in image_embeddings]\n",
    "\n",
    "# Find the most similar image\n",
    "max_similarity = max(similarities)\n",
    "if max_similarity > 0.9:\n",
    "    max_index = similarities.index(max_similarity)\n",
    "    similar_image_id = image_ids[max_index]\n",
    "    cursor.execute(f\"SELECT image_name FROM {table_name} WHERE image_id = ?\", (similar_image_id,))\n",
    "    result = cursor.fetchone()\n",
    "    if result:\n",
    "        image_name = result[0]\n",
    "        print(f\"Similar image found in the database! Name: {image_name}\")\n",
    "\n",
    "# Close the database connection\n",
    "conn.close()\n",
    "\n",
    "end_time = time.time()\n",
    "execution_time = end_time - start_time\n",
    "print(f\"Execution time: {execution_time:.2f} seconds\")\n"
   ]
  },
  {
   "cell_type": "code",
   "execution_count": null,
   "id": "97ccf7e4",
   "metadata": {},
   "outputs": [],
   "source": []
  }
 ],
 "metadata": {
  "kernelspec": {
   "display_name": "Python 3 (ipykernel)",
   "language": "python",
   "name": "python3"
  },
  "language_info": {
   "codemirror_mode": {
    "name": "ipython",
    "version": 3
   },
   "file_extension": ".py",
   "mimetype": "text/x-python",
   "name": "python",
   "nbconvert_exporter": "python",
   "pygments_lexer": "ipython3",
   "version": "3.10.9"
  }
 },
 "nbformat": 4,
 "nbformat_minor": 5
}
